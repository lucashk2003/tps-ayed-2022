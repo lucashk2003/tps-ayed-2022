{
  "nbformat": 4,
  "nbformat_minor": 0,
  "metadata": {
    "colab": {
      "name": "TP4 - AyED - 2022.ipynb",
      "provenance": [],
      "collapsed_sections": [],
      "authorship_tag": "ABX9TyMwxs4rm2a1vUXQ0gP7yrUO",
      "include_colab_link": true
    },
    "kernelspec": {
      "name": "python3",
      "display_name": "Python 3"
    },
    "language_info": {
      "name": "python"
    }
  },
  "cells": [
    {
      "cell_type": "markdown",
      "metadata": {
        "id": "view-in-github",
        "colab_type": "text"
      },
      "source": [
        "<a href=\"https://colab.research.google.com/github/lucashk2003/tps-ayed-2022/blob/main/TP4_AyED_2022.ipynb\" target=\"_parent\"><img src=\"https://colab.research.google.com/assets/colab-badge.svg\" alt=\"Open In Colab\"/></a>"
      ]
    },
    {
      "cell_type": "markdown",
      "source": [
        "Ejercicio 1"
      ],
      "metadata": {
        "id": "3nkhMaJiu25K"
      }
    },
    {
      "cell_type": "code",
      "execution_count": null,
      "metadata": {
        "id": "j9KOBbD4uoTc"
      },
      "outputs": [],
      "source": [
        "def elevar_al_cuadrado(numero):\n",
        "    return numero**2\n",
        "\n",
        "print(\"A continuación se le pediran 5 numeros que serán elevados al cuadrado.\")\n",
        "n=1\n",
        "\n",
        "while n<=5:\n",
        "    numero_usuario = input(\"Ingrese un numero para elevar al cuadrado: \" )\n",
        "    bandera = True\n",
        "    for caracter in numero_usuario:\n",
        "        if caracter not in \"0123456789\":\n",
        "            bandera=False\n",
        "    if bandera==True:\n",
        "        numero_usuario=int(numero_usuario)\n",
        "        print(\"El numero ingresado elevado al cuadrado es:\",elevar_al_cuadrado(numero_usuario))\n",
        "        n+=1\n",
        "    else:\n",
        "        print(\"El dato ingresado es incorrecto.\")"
      ]
    },
    {
      "cell_type": "markdown",
      "source": [
        "Ejercicio 2"
      ],
      "metadata": {
        "id": "BXa8KfRvv2P9"
      }
    },
    {
      "cell_type": "code",
      "source": [
        "def es_positivo(numero):\n",
        "    if numero >= 0:\n",
        "        return True\n",
        "    else:\n",
        "        return False"
      ],
      "metadata": {
        "id": "QT1bbW82v4dN"
      },
      "execution_count": null,
      "outputs": []
    },
    {
      "cell_type": "markdown",
      "source": [
        "Ejercicio 3"
      ],
      "metadata": {
        "id": "QnTlBD8fwAD0"
      }
    },
    {
      "cell_type": "code",
      "source": [
        "def son_iguales(palabra1, palabra2):\n",
        "    if palabra1==palabra2:\n",
        "        return True\n",
        "    else:\n",
        "        return False"
      ],
      "metadata": {
        "id": "2eIZlNVdwCp7"
      },
      "execution_count": null,
      "outputs": []
    },
    {
      "cell_type": "markdown",
      "source": [
        "Ejercicio 4"
      ],
      "metadata": {
        "id": "bFz99EyrwHwU"
      }
    },
    {
      "cell_type": "code",
      "source": [
        "def signo(numero):\n",
        "    if numero >=0:\n",
        "        return 1\n",
        "    else:\n",
        "        return -1"
      ],
      "metadata": {
        "id": "i2OkTAZ2wK2S"
      },
      "execution_count": null,
      "outputs": []
    },
    {
      "cell_type": "markdown",
      "source": [
        "Ejercicio 5"
      ],
      "metadata": {
        "id": "qaRSmuVE0NbA"
      }
    },
    {
      "cell_type": "code",
      "source": [
        "def escalon(numero):\n",
        "    if numero >=0:\n",
        "        return 1\n",
        "    else:\n",
        "        return 0"
      ],
      "metadata": {
        "id": "gM01pnBW0UEl"
      },
      "execution_count": null,
      "outputs": []
    },
    {
      "cell_type": "markdown",
      "source": [
        "Ejercicio 6"
      ],
      "metadata": {
        "id": "ya9Hv0m10s1F"
      }
    },
    {
      "cell_type": "code",
      "source": [
        "def delta_de_dirac(a,b):\n",
        "  if a == b:\n",
        "    return 1\n",
        "  else:\n",
        "    return 0"
      ],
      "metadata": {
        "id": "dLrMcp3f1_gG"
      },
      "execution_count": null,
      "outputs": []
    },
    {
      "cell_type": "markdown",
      "source": [
        "Ejercicio 7"
      ],
      "metadata": {
        "id": "Xx4DvO5D2MaN"
      }
    },
    {
      "cell_type": "code",
      "source": [
        "def raiz(a,b,c):\n",
        "  return ((-b)+((b**2-4*a*c)**(1/2))/(2*a)"
      ],
      "metadata": {
        "id": "Y3pbk5bg2QXH"
      },
      "execution_count": null,
      "outputs": []
    },
    {
      "cell_type": "markdown",
      "source": [
        "Ejercicio 8"
      ],
      "metadata": {
        "id": "kUa9vLCA23pR"
      }
    },
    {
      "cell_type": "code",
      "source": [
        "def en_intervalo(n,a,b):\n",
        "  if (n>=a) and (n<=b):\n",
        "    return True\n",
        "  else:\n",
        "    return False"
      ],
      "metadata": {
        "id": "9S-LKcOZ26fD"
      },
      "execution_count": null,
      "outputs": []
    },
    {
      "cell_type": "markdown",
      "source": [
        "Ejercicio 9"
      ],
      "metadata": {
        "id": "db87uYuM4g6p"
      }
    },
    {
      "cell_type": "code",
      "source": [
        "def cantidad_de_vocales(frase):\n",
        "  vocales = \"aeiouAEIOUáéíóóÁÉÍÓÚüÜ\"\n",
        "  contador_de_vocales=0\n",
        "  for caracter in frase:\n",
        "    if caracter in vocales:\n",
        "      contador_de_vocales+=1\n",
        "  return contador_de_vocales"
      ],
      "metadata": {
        "id": "CFmhnfqx4j9r"
      },
      "execution_count": null,
      "outputs": []
    },
    {
      "cell_type": "markdown",
      "source": [
        "Ejercicio 10"
      ],
      "metadata": {
        "id": "Fgzba6sY5OtM"
      }
    },
    {
      "cell_type": "code",
      "source": [
        "def de_farenheit_a_celcius(tf):\n",
        "  return (5/9)*(tf-32)"
      ],
      "metadata": {
        "id": "1qmTSrno6Gj7"
      },
      "execution_count": null,
      "outputs": []
    },
    {
      "cell_type": "markdown",
      "source": [
        "Ejercicio 11"
      ],
      "metadata": {
        "id": "0UUPmzsz6e-4"
      }
    },
    {
      "cell_type": "code",
      "source": [
        "def concatenar(palabra1,palabra2):\n",
        "  return palabra1+palabra2"
      ],
      "metadata": {
        "id": "ehotkP6V6lVo"
      },
      "execution_count": null,
      "outputs": []
    },
    {
      "cell_type": "markdown",
      "source": [
        "Ejercicio 12"
      ],
      "metadata": {
        "id": "LR_5wQej6vgh"
      }
    },
    {
      "cell_type": "code",
      "source": [
        "def concatenar(palabra1,palabra2,space=False):\n",
        "  if space==False:\n",
        "    return palabra1+palabra2\n",
        "  else:\n",
        "    return palabra1+\" \"+palabra2"
      ],
      "metadata": {
        "id": "IRZm1uIA6zsm"
      },
      "execution_count": null,
      "outputs": []
    },
    {
      "cell_type": "markdown",
      "source": [
        "Ejercicio 13"
      ],
      "metadata": {
        "id": "WS_4esJ78PV-"
      }
    },
    {
      "cell_type": "code",
      "source": [
        "def cuenta_letras(frase,letra):\n",
        "  contador_de_letras = 0\n",
        "  for caracter in frase:\n",
        "    if caracter == letra:\n",
        "      contador_de_letras+=1\n",
        "  return contador de letras"
      ],
      "metadata": {
        "id": "5ZXEC9rT9Kie"
      },
      "execution_count": null,
      "outputs": []
    },
    {
      "cell_type": "markdown",
      "source": [
        "Ejercicio 14"
      ],
      "metadata": {
        "id": "Y4i8Yb5WArpg"
      }
    },
    {
      "cell_type": "code",
      "source": [
        "def capitalizar(palabra):\n",
        "  palabra_salida=palabra[0].upper()+palabra[1:len(palabra)].lower()\n",
        "  return palabra_salida"
      ],
      "metadata": {
        "id": "kFHcemd6AudF"
      },
      "execution_count": null,
      "outputs": []
    },
    {
      "cell_type": "markdown",
      "source": [
        "Ejercicio 15"
      ],
      "metadata": {
        "id": "TvesCV2wB06Z"
      }
    },
    {
      "cell_type": "code",
      "source": [
        "def ordenar_lista(lista):\n",
        "  if lista[1]>lista[0]:\n",
        "    temporal = lista[0]\n",
        "    lista[0]=lista[1]\n",
        "    lista[1]=temporal\n",
        "  return lista"
      ],
      "metadata": {
        "id": "NGDFjGVUCs1j"
      },
      "execution_count": null,
      "outputs": []
    },
    {
      "cell_type": "markdown",
      "source": [
        "Ejercicio 16"
      ],
      "metadata": {
        "id": "9gZ6vA90Dp_B"
      }
    },
    {
      "cell_type": "code",
      "source": [
        "def cantidad_numeros_pares(a,b):\n",
        "  cantidad_pares = 0\n",
        "  if a<=b:\n",
        "    for i in range(a,b+1):\n",
        "      if i % 2 == 0:\n",
        "        cantidad_pares +=1\n",
        "  return cantidad_pares"
      ],
      "metadata": {
        "id": "zsk6dXXuDtfs"
      },
      "execution_count": null,
      "outputs": []
    },
    {
      "cell_type": "code",
      "source": [
        "print(cantidad_numeros_pares(2,25))"
      ],
      "metadata": {
        "colab": {
          "base_uri": "https://localhost:8080/"
        },
        "id": "fwo_MOuxFa6M",
        "outputId": "fa0a756b-93b8-4602-fa03-63c60615d1bd"
      },
      "execution_count": null,
      "outputs": [
        {
          "output_type": "stream",
          "name": "stdout",
          "text": [
            "12\n"
          ]
        }
      ]
    }
  ]
}